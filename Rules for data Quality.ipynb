{
 "cells": [
  {
   "cell_type": "markdown",
   "id": "fdd42a57",
   "metadata": {},
   "source": [
    "# Rule 1\n",
    "\n",
    "## Null Replace"
   ]
  },
  {
   "cell_type": "code",
   "execution_count": null,
   "id": "355c5f18",
   "metadata": {},
   "outputs": [],
   "source": [
    "def null_replace(df):\n",
    "    # Filling null values with 0\n",
    "    df = df.replace(np.nan, 0)"
   ]
  },
  {
   "cell_type": "markdown",
   "id": "f9a2313b",
   "metadata": {},
   "source": [
    "# Rule 2\n",
    "\n",
    "## Name Cleaning"
   ]
  },
  {
   "cell_type": "code",
   "execution_count": null,
   "id": "daa71883",
   "metadata": {},
   "outputs": [],
   "source": [
    "def name_cleaning(df, g):  # df is the DataFrame, g is the column to be rectified\n",
    "    for j in range(len(df.axes[0])):\n",
    "        t = df.loc[j,g].strip()\n",
    "        df.loc[j,g] = ' '.join(df.loc[j,g].split() )\n",
    "    print(df)"
   ]
  },
  {
   "cell_type": "markdown",
   "id": "70f8e38d",
   "metadata": {},
   "source": [
    "# Rule 3\n",
    "\n",
    "##  Mobile Number Check"
   ]
  },
  {
   "cell_type": "code",
   "execution_count": null,
   "id": "fcc04eef",
   "metadata": {},
   "outputs": [],
   "source": [
    "# check if mobile number is valid or not for a string\n",
    "def is_num(s):\n",
    "        \n",
    "    # 1) Then contains 6,7 or 8 or 9.\n",
    "    # 2) Then contains 9 digits\n",
    "    Pattern = re.compile(\"[6-9][0-9]{9}\")\n",
    "    \n",
    "    if re.match(Pattern, s) and len(s)==10:\n",
    "        return s\n",
    "    else :\n",
    "        return '0000000000'\n",
    "    \n",
    "    \n",
    "# replacing invalid mobile numbers in a DataFrame\n",
    "def phone_check(h):\n",
    "    c = list(h)\n",
    "    b = h.shape[0]\n",
    "    for i in c:\n",
    "        for j in range(b):\n",
    "            h.loc[j,i]=is_num(h.loc[j,i])"
   ]
  },
  {
   "cell_type": "markdown",
   "id": "35a4b22c",
   "metadata": {},
   "source": [
    "# Rule 4\n",
    "\n",
    "## Email Checking"
   ]
  },
  {
   "cell_type": "code",
   "execution_count": null,
   "id": "8b17ddec",
   "metadata": {},
   "outputs": [],
   "source": [
    "# function to check string email\n",
    "import string\n",
    "def email_fx(a):\n",
    "    invalidcharacters= list(string.punctuation)\n",
    "    invalidcharacters.remove('.')\n",
    "    invalidcharacters.remove('@')\n",
    "    invalidcharacters.remove('_')\n",
    "    \n",
    "    \n",
    "    if any(char in invalidcharacters for char in a):\n",
    "        return \"invalid\"\n",
    "    else:\n",
    "        return a\n",
    "    \n",
    "    \n",
    "# calling the function for a DataFrame\n",
    "def email_set(h,g):\n",
    "    c = g\n",
    "    b = h.shape[0]\n",
    "    for i in c:\n",
    "        for j in range(b):\n",
    "            h.loc[j,i]=email_fx(h.loc[j,i])"
   ]
  },
  {
   "cell_type": "markdown",
   "id": "4f26c9ff",
   "metadata": {},
   "source": [
    "# Rule 5\n",
    "\n",
    "##  Will edit laterf"
   ]
  },
  {
   "cell_type": "markdown",
   "id": "676c3993",
   "metadata": {},
   "source": [
    "# Rule 6\n",
    "\n",
    "## Date Formating"
   ]
  },
  {
   "cell_type": "code",
   "execution_count": null,
   "id": "204cff7f",
   "metadata": {},
   "outputs": [],
   "source": [
    "\n",
    "\n",
    "def date_set(h,g): # h is rhe DataFrame passed, g is the column you wanna apply the property to\n",
    "    c = g\n",
    "    b = h.shape[0]\n",
    "    for i in c:\n",
    "        for j in range(b):\n",
    "            h.loc[j,i]=pd.to_datetime(h.loc[j,i])"
   ]
  },
  {
   "cell_type": "markdown",
   "id": "ed843e88",
   "metadata": {},
   "source": [
    "# Rule 7\n",
    "\n",
    "## Special Characters"
   ]
  },
  {
   "cell_type": "code",
   "execution_count": null,
   "id": "d1e2574a",
   "metadata": {},
   "outputs": [],
   "source": [
    "# for a string\n",
    "\n",
    "import string\n",
    "def remove_special_char(test):\n",
    "    specil_chars = []\n",
    "    t1 = string.punctuation\n",
    "    specil_chars = []\n",
    "    for i in t1:\n",
    "        specil_chars.append(i)\n",
    "    s=\"\"\n",
    "    for i in test:\n",
    "        if i not in specil_chars:\n",
    "            s+=i\n",
    "    return str(s)\n",
    "\n",
    "\n",
    "# for a DataFrame\n",
    "def spec_char(h,g):\n",
    "    c = g\n",
    "    b = h.shape[0]\n",
    "    for i in c:\n",
    "        for j in range(b):\n",
    "            h.loc[j,i]=remove_special_char(h.loc[j,i])"
   ]
  },
  {
   "cell_type": "markdown",
   "id": "92349823",
   "metadata": {},
   "source": [
    "# Rule 8\n",
    "\n",
    "## Is_Number"
   ]
  },
  {
   "cell_type": "code",
   "execution_count": null,
   "id": "f11817da",
   "metadata": {},
   "outputs": [],
   "source": [
    "# for a string\n",
    "import string\n",
    "\n",
    "#before any input type cast the input into a string\n",
    "\n",
    "def is_number(s):\n",
    "    num_list = ['0','1','2','3','4','5','6','7','8','9']\n",
    "    new_string = \"\"\n",
    "    for i in s:\n",
    "        if i not in  num_list:\n",
    "            return 0\n",
    "    \n",
    "    return s\n",
    "\n",
    "\n",
    "\n",
    "is_number(\"1234f34\")\n",
    "\n",
    "# for DataFrame   \n",
    "def numo_set(h,g): # h is rhe DataFrame passed, g is the list column you wanna apply the propert to\n",
    "    c = g\n",
    "    b = h.shape[0]\n",
    "    for i in c:\n",
    "        for j in range(b):\n",
    "            h.loc[j,i]=is_number(str(h.loc[j,i]))"
   ]
  },
  {
   "cell_type": "code",
   "execution_count": null,
   "id": "ce1fd420",
   "metadata": {},
   "outputs": [],
   "source": []
  },
  {
   "cell_type": "code",
   "execution_count": null,
   "id": "bd077083",
   "metadata": {},
   "outputs": [],
   "source": []
  },
  {
   "cell_type": "code",
   "execution_count": null,
   "id": "01b8d9c5",
   "metadata": {},
   "outputs": [],
   "source": []
  },
  {
   "cell_type": "code",
   "execution_count": null,
   "id": "db467a58",
   "metadata": {},
   "outputs": [],
   "source": []
  },
  {
   "cell_type": "code",
   "execution_count": null,
   "id": "ce969ddd",
   "metadata": {},
   "outputs": [],
   "source": []
  }
 ],
 "metadata": {
  "kernelspec": {
   "display_name": "Python 3 (ipykernel)",
   "language": "python",
   "name": "python3"
  },
  "language_info": {
   "codemirror_mode": {
    "name": "ipython",
    "version": 3
   },
   "file_extension": ".py",
   "mimetype": "text/x-python",
   "name": "python",
   "nbconvert_exporter": "python",
   "pygments_lexer": "ipython3",
   "version": "3.9.12"
  }
 },
 "nbformat": 4,
 "nbformat_minor": 5
}
